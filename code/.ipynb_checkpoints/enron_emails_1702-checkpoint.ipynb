{
 "cells": [
  {
   "cell_type": "code",
   "execution_count": 18,
   "metadata": {},
   "outputs": [],
   "source": [
    "# import libraries\n",
    "\n",
    "import os, sys, email\n",
    "import numpy as np \n",
    "import pandas as pd"
   ]
  },
  {
   "cell_type": "code",
   "execution_count": 19,
   "metadata": {},
   "outputs": [],
   "source": [
    "# show 55 columns and rows\n",
    "\n",
    "pd.set_option('display.max_columns', 55)\n",
    "pd.set_option('display.max_rows', 55)"
   ]
  },
  {
   "cell_type": "code",
   "execution_count": 20,
   "metadata": {},
   "outputs": [
    {
     "name": "stdout",
     "output_type": "stream",
     "text": [
      "(517401, 52)\n"
     ]
    }
   ],
   "source": [
    "# read the data into a DataFrame\n",
    "\n",
    "emails_df = pd.read_csv('/Users/adriancampos/Downloads/enron_05_17_2015_with_labels_v2.csv.zip')\n",
    "print(emails_df.shape)\n"
   ]
  },
  {
   "cell_type": "code",
   "execution_count": 21,
   "metadata": {},
   "outputs": [
    {
     "data": {
      "text/plain": [
       "Unnamed: 0          int64\n",
       "Message-ID         object\n",
       "Date               object\n",
       "From               object\n",
       "To                 object\n",
       "Subject            object\n",
       "X-From             object\n",
       "X-To               object\n",
       "X-cc               object\n",
       "X-bcc              object\n",
       "X-Folder           object\n",
       "X-Origin           object\n",
       "X-FileName         object\n",
       "content            object\n",
       "user               object\n",
       "Cat_1_level_1     float64\n",
       "Cat_1_level_2     float64\n",
       "Cat_1_weight      float64\n",
       "Cat_2_level_1     float64\n",
       "Cat_2_level_2     float64\n",
       "Cat_2_weight      float64\n",
       "Cat_3_level_1     float64\n",
       "Cat_3_level_2     float64\n",
       "Cat_3_weight      float64\n",
       "Cat_4_level_1     float64\n",
       "Cat_4_level_2     float64\n",
       "Cat_4_weight      float64\n",
       "Cat_5_level_1     float64\n",
       "Cat_5_level_2     float64\n",
       "Cat_5_weight      float64\n",
       "Cat_6_level_1     float64\n",
       "Cat_6_level_2     float64\n",
       "Cat_6_weight      float64\n",
       "Cat_7_level_1     float64\n",
       "Cat_7_level_2     float64\n",
       "Cat_7_weight      float64\n",
       "Cat_8_level_1     float64\n",
       "Cat_8_level_2     float64\n",
       "Cat_8_weight      float64\n",
       "Cat_9_level_1     float64\n",
       "Cat_9_level_2     float64\n",
       "Cat_9_weight      float64\n",
       "Cat_10_level_1    float64\n",
       "Cat_10_level_2    float64\n",
       "Cat_10_weight     float64\n",
       "Cat_11_level_1    float64\n",
       "Cat_11_level_2    float64\n",
       "Cat_11_weight     float64\n",
       "Cat_12_level_1    float64\n",
       "Cat_12_level_2    float64\n",
       "Cat_12_weight     float64\n",
       "labeled              bool\n",
       "dtype: object"
      ]
     },
     "execution_count": 21,
     "metadata": {},
     "output_type": "execute_result"
    }
   ],
   "source": [
    "emails_df.dtypes"
   ]
  },
  {
   "cell_type": "code",
   "execution_count": 22,
   "metadata": {},
   "outputs": [
    {
     "data": {
      "text/plain": [
       "pandas.core.frame.DataFrame"
      ]
     },
     "execution_count": 22,
     "metadata": {},
     "output_type": "execute_result"
    }
   ],
   "source": [
    "type(emails_df)"
   ]
  },
  {
   "cell_type": "code",
   "execution_count": 23,
   "metadata": {},
   "outputs": [],
   "source": [
    "emails_df = emails_df.loc[emails_df['labeled'] == True]"
   ]
  },
  {
   "cell_type": "code",
   "execution_count": 24,
   "metadata": {},
   "outputs": [
    {
     "data": {
      "text/plain": [
       "(1702, 52)"
      ]
     },
     "execution_count": 24,
     "metadata": {},
     "output_type": "execute_result"
    }
   ],
   "source": [
    "emails_df.shape"
   ]
  },
  {
   "cell_type": "code",
   "execution_count": 25,
   "metadata": {},
   "outputs": [
    {
     "data": {
      "text/plain": [
       "'Thanks for the information. It would be helpful if you would send the detailed worksheet that you mentioned. I am surprised to hear that the only restricted shares left are the ones granted this January. I have always elected to defer any distributions of restricted stock. I believe I selected the minimum amount required to be kept in enron stock (50%). Are you saying that all the previous grants have fully vested and been distributed to my deferral account? Thank you for looking into this issue. Phillip'"
      ]
     },
     "execution_count": 25,
     "metadata": {},
     "output_type": "execute_result"
    }
   ],
   "source": [
    "emails_df.iloc[1,13]"
   ]
  },
  {
   "cell_type": "code",
   "execution_count": 26,
   "metadata": {},
   "outputs": [],
   "source": [
    "emails_df.to_csv('../data/enron_emails_1702.csv', index=False)"
   ]
  },
  {
   "cell_type": "code",
   "execution_count": null,
   "metadata": {},
   "outputs": [],
   "source": []
  }
 ],
 "metadata": {
  "kernelspec": {
   "display_name": "Python 3",
   "language": "python",
   "name": "python3"
  },
  "language_info": {
   "codemirror_mode": {
    "name": "ipython",
    "version": 3
   },
   "file_extension": ".py",
   "mimetype": "text/x-python",
   "name": "python",
   "nbconvert_exporter": "python",
   "pygments_lexer": "ipython3",
   "version": "3.7.1"
  }
 },
 "nbformat": 4,
 "nbformat_minor": 2
}
